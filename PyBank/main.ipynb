{
 "cells": [
  {
   "cell_type": "code",
   "execution_count": 1,
   "id": "3c8da62e-cd46-4680-ad37-2d688d37e5ff",
   "metadata": {
    "tags": []
   },
   "outputs": [],
   "source": [
    "# Import the pathlib and csv library\n",
    "from pathlib import Path\n",
    "import csv"
   ]
  },
  {
   "cell_type": "code",
   "execution_count": 2,
   "id": "e9f528fb-d9bb-4b68-b185-8178a8954568",
   "metadata": {
    "tags": []
   },
   "outputs": [],
   "source": [
    "# Set the file path\n",
    "csvpath = Path('../PyBank/budget_data.csv')"
   ]
  },
  {
   "cell_type": "code",
   "execution_count": 3,
   "id": "dfda7bd9-0a74-4717-afa9-9a8543ffc528",
   "metadata": {
    "tags": []
   },
   "outputs": [
    {
     "name": "stdout",
     "output_type": "stream",
     "text": [
      "Total Months: 86\n"
     ]
    }
   ],
   "source": [
    "# Read the csv file and count the total number of months\n",
    "total_months = 0\n",
    "with open(csvpath, 'r') as file:\n",
    "    reader = csv.reader(file)\n",
    "    next(reader)  # skip the header\n",
    "    for row in reader:\n",
    "        total_months += 1\n",
    "\n",
    "print(f'Total Months: {total_months}')"
   ]
  },
  {
   "cell_type": "code",
   "execution_count": 4,
   "id": "e27da606-bda0-49af-bccc-88e8015fc49e",
   "metadata": {
    "tags": []
   },
   "outputs": [
    {
     "name": "stdout",
     "output_type": "stream",
     "text": [
      "Net Total Profit/Losses: $38382578\n"
     ]
    }
   ],
   "source": [
    "# Calculate the total amount of net total amount of profit/losses\n",
    "net_total_profit_losses = 0\n",
    "\n",
    "with open(csvpath, 'r') as file:\n",
    "    reader = csv.reader(file)\n",
    "    next(reader)  # skip the header\n",
    "    for row in reader:\n",
    "        net_total_profit_losses += int(row[1])\n",
    "\n",
    "print(f'Net Total Profit/Losses: ${net_total_profit_losses}')"
   ]
  },
  {
   "cell_type": "code",
   "execution_count": 5,
   "id": "c8109334-5923-4348-96b9-b6a458aafca3",
   "metadata": {
    "tags": []
   },
   "outputs": [
    {
     "name": "stdout",
     "output_type": "stream",
     "text": [
      "Average Change in Profit/Losses: $-2315.12\n"
     ]
    }
   ],
   "source": [
    "# Calculate the average change in profit/losses\n",
    "prev_profit_losses = None\n",
    "total_change_profit_losses = 0\n",
    "\n",
    "with open(csvpath, 'r') as file:\n",
    "    reader = csv.reader(file)\n",
    "    next(reader)  # skip the header\n",
    "    for row in reader:\n",
    "        profit_losses = int(row[1])\n",
    "        net_total_profit_losses += profit_losses\n",
    "        if prev_profit_losses is not None:\n",
    "            total_change_profit_losses += profit_losses - prev_profit_losses\n",
    "        prev_profit_losses = profit_losses\n",
    "\n",
    "average_change_profit_losses = total_change_profit_losses / (total_months - 1)\n",
    "\n",
    "print(f'Average Change in Profit/Losses: ${average_change_profit_losses:.2f}')"
   ]
  },
  {
   "cell_type": "code",
   "execution_count": 6,
   "id": "f5f3480b-c702-4423-9f99-1859b97a6b0b",
   "metadata": {
    "tags": []
   },
   "outputs": [
    {
     "name": "stdout",
     "output_type": "stream",
     "text": [
      "Greatest Increase in Profits: Feb-2012 ($1926159)\n",
      "Greatest Decrease in Losses: Sep-2013 ($-2196167)\n"
     ]
    }
   ],
   "source": [
    "# Calculate the greatest increase in profits, and greatest decrease in losses\n",
    "prev_profit_losses = None\n",
    "total_change_profit_losses = 0\n",
    "greatest_increase_profits = {\"Date\": \"\", \"Amount\": 0}\n",
    "greatest_decrease_losses = {\"Date\": \"\", \"Amount\": 0}\n",
    "\n",
    "with open(csvpath, 'r') as file:\n",
    "    reader = csv.reader(file)\n",
    "    next(reader)  # skip the header\n",
    "    for row in reader:\n",
    "        date, profit_losses = row[0], int(row[1])\n",
    "        net_total_profit_losses += profit_losses\n",
    "        if prev_profit_losses is not None:\n",
    "            change_profit_losses = profit_losses - prev_profit_losses\n",
    "            total_change_profit_losses += change_profit_losses\n",
    "            if change_profit_losses > greatest_increase_profits[\"Amount\"]:\n",
    "                greatest_increase_profits = {\"Date\": date, \"Amount\": change_profit_losses}\n",
    "            if change_profit_losses < greatest_decrease_losses[\"Amount\"]:\n",
    "                greatest_decrease_losses = {\"Date\": date, \"Amount\": change_profit_losses}\n",
    "        prev_profit_losses = profit_losses\n",
    "\n",
    "average_change_profit_losses = total_change_profit_losses / (total_months - 1)\n",
    "\n",
    "print(f'Greatest Increase in Profits: {greatest_increase_profits[\"Date\"]} (${greatest_increase_profits[\"Amount\"]})')\n",
    "print(f'Greatest Decrease in Losses: {greatest_decrease_losses[\"Date\"]} (${greatest_decrease_losses[\"Amount\"]})')"
   ]
  },
  {
   "cell_type": "code",
   "execution_count": 8,
   "id": "dd43071b-e562-4b72-995b-e3ddd6813146",
   "metadata": {},
   "outputs": [
    {
     "name": "stdout",
     "output_type": "stream",
     "text": [
      "Financial Analysis\n",
      "----------------------------\n",
      "Total Months: 86\n",
      "Net Total Profit_Losses: $38382578\n",
      "Average Change in Profit_Losses: $-2315.12\n",
      "Greatest Increase in Profits: Feb-2012 ($1926159)\n",
      "Greatest Decrease in Losses: Sep-2013 ($-2196167)\n",
      "\n"
     ]
    }
   ],
   "source": [
    "# Financial Analysis\n",
    "Analysis = \"\"\"Financial Analysis\n",
    "----------------------------\n",
    "Total Months: 86\n",
    "Net Total Profit_Losses: $38382578\n",
    "Average Change in Profit_Losses: $-2315.12\n",
    "Greatest Increase in Profits: Feb-2012 ($1926159)\n",
    "Greatest Decrease in Losses: Sep-2013 ($-2196167)\n",
    "\"\"\"\n",
    "\n",
    "#Print the analysis\n",
    "print(Analysis)\n",
    "\n",
    "#Write the analysis to a text file\n",
    "with open('Analysis.ext', 'w') as file:\n",
    "    file.write(Analysis)"
   ]
  }
 ],
 "metadata": {
  "kernelspec": {
   "display_name": "Python 3 (ipykernel)",
   "language": "python",
   "name": "python3"
  },
  "language_info": {
   "codemirror_mode": {
    "name": "ipython",
    "version": 3
   },
   "file_extension": ".py",
   "mimetype": "text/x-python",
   "name": "python",
   "nbconvert_exporter": "python",
   "pygments_lexer": "ipython3",
   "version": "3.10.12"
  }
 },
 "nbformat": 4,
 "nbformat_minor": 5
}
